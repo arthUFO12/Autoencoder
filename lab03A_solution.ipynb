{
 "cells": [
  {
   "cell_type": "markdown",
   "metadata": {},
   "source": [
    "### Step 0:\n",
    "\n",
    "Here we provide the relevant parameters values that will allow your sparse autoencoder to get good filters; you do not need to change the parameters below."
   ]
  },
  {
   "cell_type": "code",
   "execution_count": 250,
   "metadata": {},
   "outputs": [],
   "source": [
    "from __future__ import division\n",
    "import numpy as np\n",
    "from numpy.linalg import norm\n",
    "from numpy.random import rand\n",
    "import matplotlib.pyplot as plt\n",
    "from scipy.optimize import fmin_l_bfgs_b as minimize\n",
    "from functools import partial\n",
    "from torch.utils.data import DataLoader\n",
    "from torchvision import transforms\n",
    "from torchvision import datasets, transforms\n",
    "\n",
    "patchsize = 6                          # We'll use 4x4 patches\n",
    "imagesize = 32\n",
    "numpatches = 10000                      # Number of images to sample \n",
    "visibleSize = patchsize*patchsize*3       # Number of input units \n",
    "hiddenSize1 = 75                         # Number of hidden units \n",
    "hiddenSize2 = 50\n",
    "sparsityParam = 0.01                    # Desired average activation of the hidden units.\n",
    "                                        # (This was denoted by the Greek alphabet rho, which looks like a lower-case \"p\" in the lecture notes). \n",
    "decayWeight = 0.0001                    # Weight decay parameter       \n",
    "beta = 3                                # Weight of sparsity penalty term\n",
    "skip_grad_check = True                 # Used for Step 2 and 3\n",
    "                                        # Whether to skip a gradient computation check \n",
    "                                        # (Quite slow; set to True if you are sure about your implementation)"
   ]
  },
  {
   "cell_type": "markdown",
   "metadata": {},
   "source": [
    "### Step 1:\n",
    "\n",
    "### IMPLEMENTATION REQUIRED - Implement 'sampleIMAGES()'\n",
    "\n",
    "Implement sampleIMAGES.\n",
    "\n",
    "After implementing sampleIMAGES, the display_network command should display a random sample of 200 patches from the dataset"
   ]
  },
  {
   "cell_type": "markdown",
   "metadata": {},
   "source": [
    "IMAGES is a 3D array containing 10 images, and Python indexes arrays by starting from 0.\n",
    "\n",
    "\n",
    "For instance, IMAGES[:,:,0] is a 512x512 array containing the 1st image. Here is a sample image from the dataset."
   ]
  },
  {
   "cell_type": "code",
   "execution_count": 251,
   "metadata": {},
   "outputs": [
    {
     "data": {
      "image/png": "[encoded data removed]",
      "text/plain": [
       "<Figure size 640x480 with 1 Axes>"
      ]
     },
     "metadata": {},
     "output_type": "display_data"
    }
   ],
   "source": [
    "dataset = datasets.CIFAR10('dataset/', True, transforms.ToTensor(), download=True)\n",
    "data = DataLoader(dataset=dataset, batch_size=10, shuffle=True)\n",
    "\n",
    "IMAGES = next(iter(data))[0].permute(2,3,1,0)\n",
    "from matplotlib import pyplot as plt\n",
    "plt.imshow(IMAGES[:,:,:,0])\n",
    "plt.axis('off')\n",
    "plt.title('CIFAR10 Image')\n",
    "\n",
    "plt.savefig(\"fourbyfour-75-50/cifimage.pdf\",dpi=300, bbox_inches='tight')\n",
    "plt.show()\n"
   ]
  },
  {
   "cell_type": "code",
   "execution_count": 252,
   "metadata": {},
   "outputs": [
    {
     "name": "stderr",
     "output_type": "stream",
     "text": [
      "/tmp/ipykernel_113917/4240339933.py:42: DeprecationWarning: __array__ implementation doesn't accept a copy keyword, so passing copy=False failed. __array__ must implement 'dtype' and 'copy' keyword arguments. To learn more, see the migration guide https://numpy.org/devdocs/numpy_2_0_migration_guide.html#adapting-to-changes-in-the-copy-keyword\n",
      "  patches[i, :] = patch.permute(2,0,1).flatten()\n"
     ]
    },
    {
     "data": {
      "image/png": "[encoded data removed]",
      "text/plain": [
       "<Figure size 640x480 with 1 Axes>"
      ]
     },
     "metadata": {},
     "output_type": "display_data"
    }
   ],
   "source": [
    "np.random.seed(0)\n",
    "def sampleIMAGES():\n",
    "    # sampleIMAGES \n",
    "    # Returns 10000 patches for training\n",
    "\n",
    "    IMAGES = next(iter(data))[0].permute(2,3,1,0)\n",
    "\n",
    "    # Initialize patches with zeros. Your code will fill in this matrix--one\n",
    "    # row per patch, 10000 rows. \n",
    "    patches = np.zeros((numpatches, patchsize*patchsize*3))\n",
    "    \n",
    "    ## ---------- YOUR CODE HERE --------------------------------------\n",
    "    #  Instructions: Fill in the variable \"patches\" using data \n",
    "    #  from IMAGES.  \n",
    "    #  \n",
    "    #  IMAGES is a 3D array containing 10 images,\n",
    "    #  and Python indexes arrays by starting from 0.\n",
    "    #  For instance, IMAGES[:,:,0] is a 512x512 array containing the 1st image,\n",
    "    #  and to visualize it you can type \n",
    "    #      from matplotlib import pyplot as plt\n",
    "    #      plt.imshow(IMAGES[:,:,0])\n",
    "    #      plt.set_cmap('gray')\n",
    "    #      plt.show()\n",
    "    #  (The contrast on these images look a bit off because they have\n",
    "    #  been preprocessed using using \"whitening.\"  See the lecture notes for\n",
    "    #  more details.) As a second example, IMAGES[20:30,20:30,1] is an image\n",
    "    #  patch corresponding to the pixels in the block (20,20) to (29,29) of\n",
    "    #  Image 2\n",
    "\n",
    "    for i in range(numpatches):\n",
    "        # Randomly select one of the 10 images\n",
    "        image_num = np.random.randint(0, 9)\n",
    "\n",
    "        # Randomly sample an 8x8 patch within the image\n",
    "        x = np.random.randint(0, imagesize - patchsize)\n",
    "        y = np.random.randint(0, imagesize - patchsize)\n",
    "\n",
    "        # Extract the 8x8 patch\n",
    "        patch = IMAGES[x:x+patchsize, y:y+patchsize, :, image_num]\n",
    "\n",
    "        # Flatten the patch into a 64-dimensional vector\n",
    "        patches[i, :] = patch.permute(2,0,1).flatten()\n",
    "    ## ---------------------------------------------------------------\n",
    "    # For the autoencoder to work well we need to normalize the data\n",
    "    # Specifically, since the output of the network is bounded between [0,1]\n",
    "    # (due to the sigmoid activation function), we have to make sure \n",
    "    # the range of pixel values is also bounded between [0,1]\n",
    "    patches = normalizeData(patches)\n",
    "    return patches\n",
    "\n",
    "def normalizeData(patches):\n",
    "    # Squash data to [0.1, 0.9] since we use sigmoid as the activation\n",
    "    # function in the output layer\n",
    "    \n",
    "    # Remove DC (mean of images). \n",
    "    patches = patches-np.mean(patches)\n",
    "        \n",
    "    # Truncate to +/-3 standard deviations and scale to -1 to 1\n",
    "    pstd = 3*np.std(patches)\n",
    "    patches = np.fmax(np.fmin(patches,pstd),-pstd)/pstd\n",
    "    \n",
    "    # Rescale from [-1,1] to [0.1,0.9]\n",
    "    patches = (patches+1)*0.4+0.1    \n",
    "    return patches\n",
    "\n",
    "def displayColorPic(A, title=None, subMean=True):\n",
    "    A = A-A.mean() if subMean else A \n",
    "    M, L = A.shape\n",
    "    sz = int(np.sqrt(L/3))\n",
    "    gap = 1\n",
    "\n",
    "    rows = cols = int(np.sqrt(M))\n",
    "    while rows*cols < M: \n",
    "        rows+=1\n",
    "\n",
    "    # initialize the picture matrix\n",
    "    array = np.ones((rows*(sz+gap) + gap, cols*(sz+gap) + gap, 3))\n",
    "\n",
    "    # fill up the matrix with image values\n",
    "    row_cnt = col_cnt = 0\n",
    "    for i in range(M):\n",
    "        x, y = row_cnt*(sz+gap) + gap, col_cnt*(sz+gap) + gap\n",
    "        for j in range(3):\n",
    "            array[x : x+ sz, y : y+sz, j] = A[i,sz*sz*j:sz*sz*(j+1)].reshape((sz,sz))\n",
    "        col_cnt += 1\n",
    "        if col_cnt >= cols:\n",
    "            row_cnt += 1\n",
    "            col_cnt = 0\n",
    "    plt.imshow(array, cmap='gray')\n",
    "    plt.axis('off')\n",
    "    if title != None:\n",
    "        plt.title(title)\n",
    "        plt.savefig(\"fourbyfour-75-50/\" + title + \".pdf\",dpi=300,bbox_inches='tight')\n",
    "\n",
    "    plt.show()\n",
    "\n",
    "def displayNetwork(A):\n",
    "    # This function visualizes filters in matrix A. Each row of A is a\n",
    "    # filter. We will reshape each row into a square image and visualizes\n",
    "    # on each cell of the visualization panel. All other parameters are\n",
    "    # optional, usually you do not need to worry about them.\n",
    "    #\n",
    "    # optNormEach: whether we need to normalize each row so that \n",
    "    # the mean of each row is zero.\n",
    "    #\n",
    "    # optNormAll: whether we need to normalize all the rows so that \n",
    "    # the mean of all the rows together is zero.\n",
    "    #\n",
    "    # imageWidth: how many pixels are there for each image\n",
    "    # Default value is the squareroot of the number of columns in A.\n",
    "    #\n",
    "    # numColumns: how many columns are there in the display. \n",
    "    # Default value is the squareroot of the number of rows in A.\n",
    "\n",
    "    # compute rows, cols\n",
    "    A = A-A.mean() \n",
    "    M, L = A.shape\n",
    "    sz = int(np.sqrt(L))\n",
    "    gap = 1\n",
    "\n",
    "    rows = cols = int(np.sqrt(M))\n",
    "    while rows*cols < M: \n",
    "        rows+=1\n",
    "\n",
    "    # initialize the picture matrix\n",
    "    array = np.ones((rows*(sz+gap) + gap, cols*(sz+gap) + gap))\n",
    "\n",
    "    # fill up the matrix with image values\n",
    "    row_cnt = col_cnt = 0\n",
    "    for i in range(M):\n",
    "        x, y = row_cnt*(sz+gap) + gap, col_cnt*(sz+gap) + gap\n",
    "        array[x : x+sz, y : y+sz] = A[i,:].reshape((sz,sz))\n",
    "        col_cnt += 1\n",
    "        if col_cnt >= cols:\n",
    "            row_cnt += 1\n",
    "            col_cnt = 0\n",
    "    \n",
    "    plt.imshow(array, cmap='gray')\n",
    "    plt.title('Samples')\n",
    "    plt.axis('off')\n",
    "    plt.show()\n",
    "\n",
    "patches = sampleIMAGES()\n",
    "displayColorPic(patches[:25,:], \"patches\", subMean=False)"
   ]
  },
  {
   "cell_type": "code",
   "execution_count": 253,
   "metadata": {},
   "outputs": [],
   "source": [
    "np.random.seed(0)\n",
    "#  Obtain random parameters theta\n",
    "def ravelParameters(W1,W2,W3, b1,b2,b3):\n",
    "    # Unroll the (W1, W2, b1, b2) matrix/vector format to the theta format.\n",
    "    return np.concatenate((W1.ravel(),W2.ravel(),W3.ravel(),b1.ravel(),b2.ravel(),b3.ravel()))\n",
    "\n",
    "def initializeParameters(hiddenSize1, hiddenSize2, visibleSize):\n",
    "    # Initialize parameters randomly based on layer sizes.\n",
    "    r = np.sqrt(6)/np.sqrt(hiddenSize1+hiddenSize2+visibleSize+1)\n",
    "    W1 = rand(visibleSize,hiddenSize1)*2*r-r\n",
    "    W2 = rand(hiddenSize1,hiddenSize2)*2*r-r\n",
    "    W3 = rand(hiddenSize2, visibleSize)*2*r-r\n",
    "\n",
    "    b1 = np.zeros((hiddenSize1,1))\n",
    "    b2 = np.zeros((hiddenSize2,1))\n",
    "    b3 = np.zeros((visibleSize,1))\n",
    "    # Convert weights and bias gradients to the vector form.\n",
    "    # This step will \"unroll\" (flatten and concatenate together) all \n",
    "    # your parameters into a vector, which can then be used \n",
    "    # with scipy.optimize.fmin_l_bfgs_b. \n",
    "    theta = ravelParameters(W1,W2,W3, b1,b2,b3)    \n",
    "    return theta\n",
    "\n",
    "params = initializeParameters(hiddenSize1,hiddenSize2, visibleSize)"
   ]
  },
  {
   "cell_type": "markdown",
   "metadata": {},
   "source": [
    "## Step 2: \n",
    "\n",
    "### IMPLEMENTATION REQUIRED - Implement 'sparseAutoencoderCost(theta,visibleSize,hiddenSize,decayWeight,sparsityParam,beta,data)'\n",
    "\n",
    "You can implement all of the components (squared error cost, weight decay term, sparsity penalty) in the cost function at once, but it may be easier to do \n",
    "it step-by-step and run gradient checking (see STEP 3) after each step.  We  suggest implementing the sparseAutoencoderCost function using the following steps:\n",
    "\n",
    "(a) Implement forward propagation in your neural network, and implement the squared error term of the cost function. Implement backpropagation to compute the derivatives.  Then (using decayWeight=beta=0), run Gradient Checking to verify that the calculations corresponding to the squared error cost term are correct.\n",
    "\n",
    "(b) Add in the weight decay term (in both the cost function and the derivative calculations), then re-run Gradient Checking to verify correctness. \n",
    "\n",
    "(c) Add in the sparsity penalty term, then re-run Gradient Checking to verify correctness.\n",
    "\n",
    "Feel free to change the training settings when debugging your code.  (For example, reducing the training set size or number of hidden units may make your code run faster; and setting beta and/or lambda to zero may be helpful for debugging.)  However, in your final submission of the visualized weights, please use parameters we gave in Step 0 above."
   ]
  },
  {
   "cell_type": "code",
   "execution_count": 254,
   "metadata": {},
   "outputs": [],
   "source": [
    "def unravelParameters(theta,hiddenSize1,hiddenSize2, visibleSize):\n",
    "    # Convert theta to the (W1, W2, b1, b2) matrix/vector format\n",
    "    weightSize1 = visibleSize*hiddenSize1\n",
    "    weightSize2 = hiddenSize1*hiddenSize2\n",
    "    weightSize3 = hiddenSize2*visibleSize\n",
    "\n",
    "\n",
    "    W1 = theta[0:weightSize1].reshape(visibleSize,hiddenSize1)\n",
    "    W2 = theta[weightSize1:weightSize1 + weightSize2].reshape(hiddenSize1,hiddenSize2)\n",
    "    W3 = theta[weightSize1 + weightSize2 : weightSize1 + weightSize2 + weightSize3].reshape(hiddenSize2,visibleSize)\n",
    "\n",
    "    biasStart = weightSize1 + weightSize2 + weightSize3\n",
    "\n",
    "    b1 = theta[biasStart:biasStart + hiddenSize1]\n",
    "    b2 = theta[biasStart + hiddenSize1: biasStart + hiddenSize1 + hiddenSize2]\n",
    "    b3 = theta[biasStart + hiddenSize1 + hiddenSize2 :]\n",
    "\n",
    "    return W1,W2,W3,b1,b2,b3\n",
    "\n",
    "def sigmoid(x):\n",
    "    # Here's an implementation of the sigmoid function, which you may find useful\n",
    "    # in your computation of the costs and the gradients.  This inputs a (row or\n",
    "    # column) vector (say (z1, z2, z3)) and returns (f(z1), f(z2), f(z3)). \n",
    "    return 1/(1+np.exp(-x))\n",
    "\n",
    "def sparseAutoencoderCost(theta,visibleSize,hiddenSize1,hiddenSize2,decayWeight,sparsityParam,beta,data):\n",
    "    # visibleSize: the number of input units (probably 64) \n",
    "    # hiddenSize: the number of hidden units (probably 25) \n",
    "    # decayWeight: weight decay parameter lambda\n",
    "    # sparsityParam: The desired average activation for the hidden units (denoted in the lecture\n",
    "    #                           notes by the greek alphabet rho, which looks like a lower-case \"p\").\n",
    "    # beta: weight of sparsity penalty term\n",
    "    # data: Our 10000x64 matrix containing the training data.  So, data[i-1,:] is the i-th training example. \n",
    "      \n",
    "    # The input theta is a vector (because scipy.optimize.fmin_l_bfgs_b expects the parameters to be a vector). \n",
    "    # We first convert theta to the (W1, W2, b1, b2) matrix/vector format, so that this \n",
    "    # follows the notation convention of the lecture notes.     \n",
    "    W1,W2,W3,b1,b2,b3 = unravelParameters(theta,hiddenSize1,hiddenSize2,visibleSize)\n",
    "\n",
    "    # Cost and gradient variables (your code needs to compute these values). \n",
    "    # Here, we initialize them to zeros. \n",
    "    cost = 0\n",
    "    \n",
    "    W1grad = np.zeros(np.shape(W1))\n",
    "    W2grad = np.zeros(np.shape(W2))\n",
    "    W3grad = np.zeros(np.shape(W3))\n",
    "    b1grad = np.zeros(np.shape(b1))\n",
    "    b2grad = np.zeros(np.shape(b2))\n",
    "    b3grad = np.zeros(np.shape(b3))\n",
    "    \n",
    "    ## ---------- YOUR CODE HERE --------------------------------------\n",
    "    #  Instructions: Compute the cost/optimization objective J_sparse(W,b) for the Sparse Autoencoder,\n",
    "    #                and the corresponding gradients W1grad, W2grad, b1grad, b2grad.\n",
    "    #\n",
    "    # W1grad, W2grad, b1grad and b2grad should be computed using backpropagation.\n",
    "    # Note that W1grad has the same dimensions as W1, b1grad has the same dimensions\n",
    "    # as b1, etc.  Your code should set W1grad to be the partial derivative of J_sparse(W,b) with\n",
    "    # respect to W1.  I.e., W1grad(i,j) should be the partial derivative of J_sparse(W,b) \n",
    "    # with respect to the input parameter W1(i,j).  Thus, W1grad should be equal to the term \n",
    "    # [(1/m) \\Delta W^{(1)} + \\lambda W^{(1)}] in the last block of pseudo-code in Section 2.2 \n",
    "    # of the lecture notes (and similarly for W2grad, b1grad, b2grad).\n",
    "    # \n",
    "    # Stated differently, if we were using batch gradient descent to optimize the parameters,\n",
    "    # the gradient descent update to W1 would be W1 := W1 - alpha * W1grad, and similarly for W2, b1, b2. \n",
    "    # \n",
    "\n",
    "    # compute network cost and gradients\n",
    "    m = data.shape[0]\n",
    "\n",
    "    # forward pass\n",
    "    A1 = data\n",
    "    z2 = np.dot(data,W1) + b1\n",
    "    A2 = sigmoid(z2)\n",
    "    z3 = np.dot(A2,W2) + b2\n",
    "    A3 = sigmoid(z3)\n",
    "    z4 = np.dot(A3,W3) + b3\n",
    "    A4 = sigmoid(z4)\n",
    "\n",
    "    error = A1 - A4\n",
    "\n",
    "    # calculate estimated activiation value, rho.\n",
    "    rho = 1 / m * np.sum(A2,axis=0).reshape(-1)\n",
    "\n",
    "    # backprop with rho\n",
    "    delta4 = -(A1 - A4) * A4 * (1 - A4)\n",
    "    delta3 = np.dot(delta4, W3.T) * A3 * (1 - A3)\n",
    "    delta2 = (np.dot(delta3,W2.T) + beta * (-sparsityParam / rho + (1. - sparsityParam) / (1. - rho))) * A2 * (1 - A2)\n",
    "\n",
    "    W3grad = np.dot(A3.T,delta4)\n",
    "    W2grad = np.dot(A2.T,delta3)\n",
    "    W1grad = np.dot(A1.T,delta2)\n",
    "    \n",
    "    b3grad = np.sum(delta4,0).reshape(-1,1)\n",
    "    b2grad = np.sum(delta3,0).reshape(-1,1)\n",
    "    b1grad = np.sum(delta2,0).reshape(-1,1)\n",
    "\n",
    "    W3grad = 1/m * W3grad + decayWeight * W3\n",
    "    W2grad = 1/m * W2grad + decayWeight * W2\n",
    "    W1grad = 1/m * W1grad + decayWeight * W1\n",
    "\n",
    "    b3grad = 1/m * b3grad\n",
    "    b2grad = 1/m * b2grad\n",
    "    b1grad = 1/m * b1grad\n",
    "\n",
    "    # compute cost and adjust costs with regularization and sparsity constriants\n",
    "    mean_squared_error = 1/m * np.sum(error**2)\n",
    "    regularization_part = decayWeight / 2 * np.sum(W1**2) + decayWeight / 2 * np.sum(W2**2) + decayWeight / 2 * np.sum(W3**2)\n",
    "    sparsity_part = np.sum(sparsityParam * np.log(sparsityParam / rho) + (1. - sparsityParam) * np.log((1. - sparsityParam) / (1. - rho)))\n",
    "    cost = 0.5 * mean_squared_error + regularization_part + beta * sparsity_part\n",
    "\n",
    "    # roll up cost and gradients to a vector format (suitable for minFunc)\n",
    "    grad = ravelParameters(W1grad,W2grad,W3grad,b1grad,b2grad,b3grad)\n",
    "\n",
    "    return cost, grad\n",
    "\n",
    "\n",
    "cost,encoder_grad = sparseAutoencoderCost(params,visibleSize,hiddenSize1,hiddenSize2,\n",
    "                                      decayWeight,sparsityParam,beta,patches)"
   ]
  },
  {
   "cell_type": "markdown",
   "metadata": {},
   "source": [
    "## STEP 3: Gradient Checking\n",
    "\n",
    "### IMPLEMENTATION REQUIRED - Implement 'computeNumericalGradient(J, theta)'\n",
    "\n",
    "Hint: If you are debugging your code, performing gradient checking on smaller models and smaller training sets (e.g., using only 10 training examples and 1-2 hidden units) may speed things up.\n",
    "    \n",
    "First, lets make sure your numerical gradient computation is correct for a simple function.  After you have implemented computeNumericalGradient(), run the following: "
   ]
  },
  {
   "cell_type": "code",
   "execution_count": 235,
   "metadata": {},
   "outputs": [],
   "source": [
    "def simpleQuadraticFunction(x):\n",
    "    # this function accepts a 2D vector as input. \n",
    "    # Its outputs are:\n",
    "    #   value: h(x1, x2) = x1^2 + 3*x1*x2\n",
    "    #   grad: A 2-dim vector that gives the partial derivatives of h with respect to x1 and x2\n",
    "    value = x[0]**2+3*x[0]*x[1]\n",
    "    grad = np.zeros(np.shape(x))\n",
    "    grad[0] = 2*x[0]+3*x[1]\n",
    "    grad[1] = 3*x[0]\n",
    "    return value, grad\n",
    "\n",
    "\n",
    "## ---------------------------------------------------------------\n",
    "def computeNumericalGradient(J,theta):\n",
    "    # numgrad = computeNumericalGradient(J, theta)\n",
    "    # theta: a vector of parameters\n",
    "    # J: a function that outputs a real-number. \n",
    "    # Calling y = J(theta) will return the function value at theta. \n",
    "      \n",
    "    # Initialize numgrad with zeros\n",
    "    numgrad = np.zeros(np.shape(theta)[0])\n",
    "\n",
    "    ## ---------- YOUR CODE HERE --------------------------------------\n",
    "    # Instructions: \n",
    "    # Implement numerical gradient checking, and return the result in numgrad.  \n",
    "    # (See Section 2.3 of the lecture notes.)\n",
    "    # You should write code so that numgrad(i) is (the numerical approximation to) the \n",
    "    # partial derivative of J with respect to the i-th input argument, evaluated at theta.  \n",
    "    # I.e., numgrad(i) should be the (approximately) the partial derivative of J with \n",
    "    # respect to theta(i).\n",
    "    #               \n",
    "    # Hint: You will probably want to compute the elements of numgrad one at a time. \n",
    "    mask = np.zeros(np.shape(theta)[0])\n",
    "    e = 1e-4\n",
    "    for p in range(np.shape(theta)[0]):\n",
    "        mask[p] = e\n",
    "        loss1,_ = J(theta - mask)\n",
    "        loss2,_ = J(theta + mask)\n",
    "        numgrad[p] = (loss2 - loss1) / (2. * e)\n",
    "        mask[p] = 0\n",
    "    return numgrad\n",
    "    ## ---------------------------------------------------------------\n",
    "\n",
    "def checkNumericalGradient():\n",
    "    # This code can be used to check your numerical gradient implementation \n",
    "    # in computeNumericalGradient()\n",
    "    # It analytically evaluates the gradient of a very simple function called\n",
    "    # simpleQuadraticFunction (see below) and compares the result with your numerical\n",
    "    # solution. Your numerical gradient implementation is incorrect if\n",
    "    # your numerical solution deviates too much from the analytical solution.\n",
    "\n",
    "    # Evaluate the function and gradient at x = [4; 10]; (Here, x is a 2d vector.)\n",
    "    x = np.array([4,10])\n",
    "    value,grad = simpleQuadraticFunction(x)\n",
    "    \n",
    "    # Use your code to numerically compute the gradient of simpleQuadraticFunction at x.\n",
    "    # (The notation \"lambda x: simpleQuadraticFunction(x)[0]\" creates a function\n",
    "    # that only returns the cost and not the grad of simpleQuadraticFunction.)\n",
    "    numgrad = computeNumericalGradient(simpleQuadraticFunction, x)\n",
    "    \n",
    "    # Visually examine the two gradient computations.  The two columns\n",
    "    # you get should be very similar. \n",
    "    print(np.array([numgrad,grad]).T)\n",
    "    print(\"The above two columns you get should be very similar.\")\n",
    "    print(\"(Left-Your Numerical Gradient, Right-Analytical Gradient)\\n\\n\")\n",
    "    \n",
    "    # Evaluate the norm of the difference between two solutions.  \n",
    "    # If you have a correct implementation, and assuming you used EPSILON = 0.0001 \n",
    "    # in computeNumericalGradient.m, then diff below should be 2.1452e-12 \n",
    "    diff = norm(numgrad-grad)/norm(numgrad+grad)\n",
    "    print(diff )   \n",
    "    print(\"Norm of the difference between numerical and analytical gradient (should be < 1e-9)\\n\\n\")\n",
    "\n",
    "if not skip_grad_check:\n",
    "    checkNumericalGradient()\n",
    "\n",
    "    # Now we can use it to check your cost function and derivative calculations\n",
    "    # for the sparse autoencoder. \n",
    "    print(\"Computing numerical gradient of sparseAutoencoderCost...\")\n",
    "    check_cost = partial(sparseAutoencoderCost,visibleSize=visibleSize,\n",
    "                                            hiddenSize=hiddenSize,\n",
    "                                            decayWeight=decayWeight,\n",
    "                                            sparsityParam=sparsityParam,\n",
    "                                            beta=beta,\n",
    "                                            data=patches)\n",
    "    num_grad = computeNumericalGradient(check_cost, params)\n",
    "    # Use this to visually compare the gradients side by side\n",
    "    print(np.array([num_grad,encoder_grad]).T)\n",
    "\n",
    "\n",
    "    # Compare numerically computed gradients with the ones obtained from backpropagation\n",
    "    diff = norm(num_grad-encoder_grad)/norm(num_grad+encoder_grad)\n",
    "    print(diff)  \n",
    "    # Should be small. In our implementation, these values are usually less than 1e-9.\n",
    "    # When you got this working, Congratulations!!!"
   ]
  },
  {
   "cell_type": "markdown",
   "metadata": {},
   "source": [
    "## STEP 4:  You can start training your sparse autoencoder\n",
    "\n",
    "After verifying that your implementation of sparseAutoencoderCost() is correct, you can start training your sparse autoencoder with scipy.optimize.fmin_l_bfgs_b (L-BFGS).\n",
    "\n",
    "Use L-BFGS to minimize the function. Generally, for scipy.optimize.fmin_l_bfgs_b to work, you need a function with two outputs: the function value and the gradient. In our problem, sparseAutoencoderCost() satisfies this. Here, we set the maximum number of iterations of L-BFGS to run to be 400 (or until convergence)."
   ]
  },
  {
   "cell_type": "code",
   "execution_count": 248,
   "metadata": {},
   "outputs": [],
   "source": [
    "#Randomly initialize the parameters\n",
    "theta = initializeParameters(hiddenSize1,hiddenSize2,visibleSize)\n",
    "opttheta,cost,messages=minimize(sparseAutoencoderCost,theta,fprime=None,maxiter=400,\n",
    "                                args=(visibleSize,hiddenSize1,hiddenSize2,decayWeight,sparsityParam,beta,patches))"
   ]
  },
  {
   "cell_type": "markdown",
   "metadata": {},
   "source": [
    "## STEP 5: Visualization save the visualization to a file "
   ]
  },
  {
   "cell_type": "code",
   "execution_count": 249,
   "metadata": {},
   "outputs": [
    {
     "name": "stderr",
     "output_type": "stream",
     "text": [
      "Clipping input data to the valid range for imshow with RGB data ([0..1] for floats or [0..255] for integers). Got range [-0.5635171546141887..1.0].\n"
     ]
    },
    {
     "data": {
      "image/png": "[encoded data removed]",
      "text/plain": [
       "<Figure size 640x480 with 1 Axes>"
      ]
     },
     "metadata": {},
     "output_type": "display_data"
    }
   ],
   "source": [
    "W1,W2,W3,b1,b2,b3 = unravelParameters(opttheta,hiddenSize1,hiddenSize2,visibleSize)\n",
    "displayColorPic(W1.T, \"Visualization of Entry Layer Params\") "
   ]
  },
  {
   "cell_type": "markdown",
   "metadata": {},
   "source": [
    "## STEP 6: Classes and objects bind the functions together into a SparseAutoencoder class\n",
    "\n",
    "### IMPLEMENTATION REQUIRED - Implement 'predict(self,sample)' here, just like in 'sparseAutoencoderCost', for forward propagation through the network."
   ]
  },
  {
   "cell_type": "code",
   "execution_count": 255,
   "metadata": {},
   "outputs": [
    {
     "name": "stdout",
     "output_type": "stream",
     "text": [
      "Untrained score: 154.12126033057447\n",
      "Trained score: 0.25190141260591414\n"
     ]
    }
   ],
   "source": [
    "class SparseAutoencoder():\n",
    "    \n",
    "    def __init__(self,visibleSize,hiddenSize1=hiddenSize1,hiddenSize2=hiddenSize2, sparsityParam=0.01,beta=3,decayWeight=0.0001):\n",
    "        # hyperparameters\n",
    "        self.visibleSize = visibleSize      # number of input units\n",
    "        self.hiddenSize1 = hiddenSize1        # number of hidden units\n",
    "        self.hiddenSize2 = hiddenSize2\n",
    "        self.sparsityParam = sparsityParam  # desired average activation of hidden units\n",
    "        self.beta = beta                    # weight of sparsity penalty term\n",
    "        self.decayWeight = decayWeight      # weight decay parameter\n",
    "        # parameters\n",
    "        self.W1 = None  # array of shape (visibleSize, hiddenSize)\n",
    "        self.W2 = None  # array of shape (hiddenSize, visibleSize)\n",
    "        self.W3 = None\n",
    "        self.b1 = None  # vector of length (hiddenSize)\n",
    "        self.b2 = None  # vector of length (visibleSize)\n",
    "        self.b3 = None\n",
    "        theta = initializeParameters(self.hiddenSize1, self.hiddenSize2,self.visibleSize)\n",
    "        self.W1,self.W2,self.W3,self.b1,self.b2,self.b3 = unravelParameters(theta,self.hiddenSize1,self.hiddenSize2,self.visibleSize)\n",
    "\n",
    "    def fit(self,patches,maxiter=400):\n",
    "        # this function trains the weights of the sparse autoencoder. \n",
    "        theta = ravelParameters(self.W1,self.W2,self.W3,self.b1,self.b2,self.b3)\n",
    "        sparseAutoencoderArgs = (self.visibleSize,self.hiddenSize1,self.hiddenSize2,self.decayWeight,\n",
    "                                 self.sparsityParam,self.beta,patches)\n",
    "        opttheta,cost,messages = minimize(sparseAutoencoderCost,theta,fprime=None,\n",
    "                                          args=sparseAutoencoderArgs,maxiter=maxiter)\n",
    "        self.W1,self.W2,self.W3,self.b1,self.b2,self.b3 = unravelParameters(opttheta,self.hiddenSize1,self.hiddenSize2,self.visibleSize)\n",
    "    \n",
    "    def predict(self,samples):\n",
    "        # Samples - data\n",
    "        # this function returns the output layer activations (estimates)\n",
    "        z2 = np.dot(samples,self.W1) + self.b1\n",
    "        a2 = sigmoid(z2)\n",
    "        z3 = np.dot(a2,self.W2) + self.b2\n",
    "        a3 = sigmoid(z3)\n",
    "        z4 = np.dot(a3,self.W3) + self.b3\n",
    "        a4 = sigmoid(z4)\n",
    "\n",
    "        # Return network estimates\n",
    "        return a4\n",
    "\n",
    "    def score(self,patches):\n",
    "        # computes the cost function of the sparseAutoencoder\n",
    "        theta = ravelParameters(self.W1,self.W2,self.W3,self.b1,self.b2,self.b3)\n",
    "        return sparseAutoencoderCost(theta,self.visibleSize,self.hiddenSize1,self.hiddenSize2,self.decayWeight,\n",
    "                                     self.sparsityParam,self.beta,patches)[0]\n",
    "    \n",
    "sae = SparseAutoencoder(visibleSize=visibleSize,hiddenSize1=hiddenSize1,hiddenSize2=hiddenSize2,sparsityParam=sparsityParam,\n",
    "                        beta=beta,decayWeight=decayWeight)\n",
    "print(f'Untrained score: {sae.score(patches)}')\n",
    "sae.fit(patches,maxiter=2000)\n",
    "print(f'Trained score: {sae.score(patches)}')"
   ]
  },
  {
   "cell_type": "code",
   "execution_count": 256,
   "metadata": {},
   "outputs": [
    {
     "name": "stderr",
     "output_type": "stream",
     "text": [
      "Clipping input data to the valid range for imshow with RGB data ([0..1] for floats or [0..255] for integers). Got range [-0.5663869670283675..1.0].\n"
     ]
    },
    {
     "data": {
      "image/png": "[encoded data removed]",
      "text/plain": [
       "<Figure size 640x480 with 1 Axes>"
      ]
     },
     "metadata": {},
     "output_type": "display_data"
    },
    {
     "name": "stderr",
     "output_type": "stream",
     "text": [
      "Clipping input data to the valid range for imshow with RGB data ([0..1] for floats or [0..255] for integers). Got range [-2.523768331253702..3.176468884006395].\n"
     ]
    },
    {
     "data": {
      "image/png": "[encoded data removed]",
      "text/plain": [
       "<Figure size 640x480 with 1 Axes>"
      ]
     },
     "metadata": {},
     "output_type": "display_data"
    },
    {
     "data": {
      "image/png": "[encoded data removed]",
      "text/plain": [
       "<Figure size 640x480 with 1 Axes>"
      ]
     },
     "metadata": {},
     "output_type": "display_data"
    },
    {
     "data": {
      "image/png": "[encoded data removed]",
      "text/plain": [
       "<Figure size 640x480 with 1 Axes>"
      ]
     },
     "metadata": {},
     "output_type": "display_data"
    },
    {
     "name": "stdout",
     "output_type": "stream",
     "text": [
      "L1 Error: 1.0006729650380044\n"
     ]
    }
   ],
   "source": [
    "estimates = sae.predict(patches[:25,:])\n",
    "displayColorPic(sae.W1.T[:25,:], \"Entry Layer Params\")\n",
    "displayColorPic(sae.W2.T[:25,:], \"First Hidden Layer Params\")\n",
    "\n",
    "displayColorPic(estimates, \"Estimate of Original Data: Less\", subMean=False)\n",
    "displayColorPic(patches[:25,:], \"Original Data: Less\", subMean=False)\n",
    "print(f'L1 Error: {np.mean(np.sum(np.abs(estimates-patches[:25,:]),axis=0))}')"
   ]
  }
 ],
 "metadata": {
  "kernelspec": {
   "display_name": "free_env",
   "language": "python",
   "name": "python3"
  },
  "language_info": {
   "codemirror_mode": {
    "name": "ipython",
    "version": 3
   },
   "file_extension": ".py",
   "mimetype": "text/x-python",
   "name": "python",
   "nbconvert_exporter": "python",
   "pygments_lexer": "ipython3",
   "version": "3.10.16"
  }
 },
 "nbformat": 4,
 "nbformat_minor": 2
}
